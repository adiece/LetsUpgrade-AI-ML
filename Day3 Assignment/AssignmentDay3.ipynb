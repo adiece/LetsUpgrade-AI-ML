{
 "cells": [
  {
   "cell_type": "markdown",
   "metadata": {},
   "source": [
    "# Question 1 :\n",
    "Write a program to subtract two complex numbers in Python."
   ]
  },
  {
   "cell_type": "code",
   "execution_count": 1,
   "metadata": {},
   "outputs": [
    {
     "name": "stdout",
     "output_type": "stream",
     "text": [
      "(6+4j)\n"
     ]
    }
   ],
   "source": [
    "a=12+6j\n",
    "b=6+2j\n",
    "print(a-b)"
   ]
  },
  {
   "cell_type": "markdown",
   "metadata": {},
   "source": [
    "# Question 2 :\n",
    "Write a program to find the fourth root of a number.\n"
   ]
  },
  {
   "cell_type": "code",
   "execution_count": 4,
   "metadata": {},
   "outputs": [
    {
     "name": "stdout",
     "output_type": "stream",
     "text": [
      "fourth root of 16 is:- 2.0\n"
     ]
    }
   ],
   "source": [
    "a=16\n",
    "print('fourth root of 16 is:-',a**(1/4))"
   ]
  },
  {
   "cell_type": "markdown",
   "metadata": {},
   "source": [
    "# Question 3:\n",
    "Write a program to swap two numbers in Python with the help of a temporary variable.\n"
   ]
  },
  {
   "cell_type": "code",
   "execution_count": 8,
   "metadata": {},
   "outputs": [
    {
     "name": "stdout",
     "output_type": "stream",
     "text": [
      "before swapping 20 10\n",
      "after swapping 10 20\n"
     ]
    }
   ],
   "source": [
    "a=20\n",
    "b=10\n",
    "print(\"before swapping\",a,b)\n",
    "c=a\n",
    "a=b\n",
    "b=c\n",
    "print(\"after swapping\",a,b)"
   ]
  },
  {
   "cell_type": "markdown",
   "metadata": {},
   "source": [
    "# Question 4:\n",
    "Write a program to swap two numbers in Python without using a temporary variable.\n"
   ]
  },
  {
   "cell_type": "code",
   "execution_count": 9,
   "metadata": {},
   "outputs": [
    {
     "name": "stdout",
     "output_type": "stream",
     "text": [
      "before swapping 20 10\n",
      "after swapping 10 20\n"
     ]
    }
   ],
   "source": [
    "a=20\n",
    "b=10\n",
    "print(\"before swapping\",a,b)\n",
    "a=a+b\n",
    "b=a-b\n",
    "a=a-b\n",
    "print(\"after swapping\",a,b)"
   ]
  },
  {
   "cell_type": "markdown",
   "metadata": {},
   "source": [
    "# Question 5:\n",
    "Write a program to convert fahrenheit to kelvin and celsius both"
   ]
  },
  {
   "cell_type": "code",
   "execution_count": 11,
   "metadata": {},
   "outputs": [
    {
     "name": "stdout",
     "output_type": "stream",
     "text": [
      "fahrenheit into celcius= -3.888888888888889\n",
      "fahrenheit into Kelvin= 269.6111111111111\n"
     ]
    }
   ],
   "source": [
    "#celsius * 1.8 = fahrenheit - 32\n",
    "#Kelvin = 273.5 + ((F - 32.0) * (5.0/9.0))\n",
    "fahrenheit=25\n",
    "print('fahrenheit into celcius=',(fahrenheit-32)/1.8)\n",
    "print('fahrenheit into Kelvin=',273.5 + ((fahrenheit - 32.0) * (5.0/9.0)))"
   ]
  },
  {
   "cell_type": "markdown",
   "metadata": {},
   "source": [
    "# Question 6:\n",
    "Write a program to demonstrate all the available data types in Python. Hint: Use type() function"
   ]
  },
  {
   "cell_type": "code",
   "execution_count": 20,
   "metadata": {},
   "outputs": [
    {
     "name": "stdout",
     "output_type": "stream",
     "text": [
      "10 is of type <class 'int'>\n",
      "20.0 is of type <class 'float'>\n",
      "(20+4j) is complex number? True\n",
      "[1, 2, 'Lets Upgrade'] is of type <class 'list'>\n",
      "(1, 2, 'Lets Upgrade') is of type <class 'tuple'>\n",
      "{1: 'value', 'key': 2} is of type <class 'dict'>\n",
      "Lets Upgrade is of type <class 'str'>\n",
      "{1, 2, 3, 4, 5} is of type <class 'set'>\n"
     ]
    }
   ],
   "source": [
    "#Integer:-\n",
    "a = 10\n",
    "print(a, \"is of type\", type(a))\n",
    "\n",
    "#Float\n",
    "a = 20.0\n",
    "print(a, \"is of type\", type(a))\n",
    "\n",
    "#Complex Number\n",
    "a = 20+4j\n",
    "print(a, \"is complex number?\", isinstance(20+4j,complex))\n",
    "\n",
    "#List\n",
    "l=[1,2,'Lets Upgrade']\n",
    "print(l, \"is of type\", type(l))\n",
    "\n",
    "#tuple\n",
    "t =(1,2,'Lets Upgrade')\n",
    "print(t, \"is of type\", type(t))\n",
    "\n",
    "#Dictionary\n",
    "d = {1:'value','key':2}\n",
    "print(d, \"is of type\", type(d))\n",
    "\n",
    "#String\n",
    "s='Lets Upgrade'\n",
    "print(s, \"is of type\", type(s))\n",
    "\n",
    "#Set\n",
    "s1 = {5,2,3,1,4}\n",
    "print(s1, \"is of type\", type(s1))\n",
    "\n"
   ]
  },
  {
   "cell_type": "markdown",
   "metadata": {},
   "source": [
    "# Question 7:\n",
    "Create a Markdown cell in jupyter and list the steps discussed in the session by Dr. Darshan\n",
    "Ingle sir to create Github profile and upload Githubs Assignment link."
   ]
  },
  {
   "cell_type": "markdown",
   "metadata": {},
   "source": [
    "\n",
    "#Ans\n",
    "1.GO to github.com.\n",
    "2.Create a profile over there (its like normal app sign in).\n",
    "3.Click on create New repository located on left upper side of the window.\n",
    "4.Give a name to your repository (LetsUpgrade-AI-ML).\n",
    "5.In Description (Assignment).\n",
    "6.Click on create Repository.\n",
    "7.Your repository (LetsUpgrade-AI-ML) will get created.\n",
    "8.Go to that repository and upload your folder from your local which contains the assignment.\n",
    "9.Commit the changes by clicking on Commit Changes.\n",
    "10.In your repositories go to your repository (LetsUpgrade-AI-ML),go into your folder (e.g., Day3),copy the link from search bar.\n",
    "11.GO to Lets Upgrade Submission form :-\n",
    "    a.Fill the the required date.\n",
    "    b.Choose the Assignment Day from Dropdown.\n",
    "12.Now paste the link of your github repository and click Submit.\n",
    "13.Before submitting ,make sure its public ,by checking your link in incognito mode of your browser.\n",
    "    "
   ]
  }
 ],
 "metadata": {
  "kernelspec": {
   "display_name": "Python 3",
   "language": "python",
   "name": "python3"
  },
  "language_info": {
   "codemirror_mode": {
    "name": "ipython",
    "version": 3
   },
   "file_extension": ".py",
   "mimetype": "text/x-python",
   "name": "python",
   "nbconvert_exporter": "python",
   "pygments_lexer": "ipython3",
   "version": "3.7.0"
  }
 },
 "nbformat": 4,
 "nbformat_minor": 2
}
