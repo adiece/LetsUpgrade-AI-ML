{
 "cells": [
  {
   "cell_type": "code",
   "execution_count": 42,
   "metadata": {},
   "outputs": [],
   "source": [
    "import numpy as np\n",
    "from datetime import date, timedelta"
   ]
  },
  {
   "cell_type": "markdown",
   "metadata": {},
   "source": [
    "# 1. Create a 3x3x3 array with random values"
   ]
  },
  {
   "cell_type": "code",
   "execution_count": 2,
   "metadata": {},
   "outputs": [
    {
     "data": {
      "text/plain": [
       "array([[[0.92870871, 0.0419024 , 0.15647189],\n",
       "        [0.51169488, 0.54805716, 0.58946757],\n",
       "        [0.36054576, 0.40053961, 0.12636206]],\n",
       "\n",
       "       [[0.02157692, 0.83565734, 0.34133748],\n",
       "        [0.81588749, 0.22828445, 0.14931741],\n",
       "        [0.64882882, 0.13500891, 0.69473098]],\n",
       "\n",
       "       [[0.31146874, 0.9362774 , 0.32524461],\n",
       "        [0.66182311, 0.28075983, 0.82675434],\n",
       "        [0.57355748, 0.65143136, 0.14944883]]])"
      ]
     },
     "execution_count": 2,
     "metadata": {},
     "output_type": "execute_result"
    }
   ],
   "source": [
    "arr=np.random.rand(3,3,3)\n",
    "arr"
   ]
  },
  {
   "cell_type": "markdown",
   "metadata": {},
   "source": [
    "# 2. Create a 5x5 matrix with values 1,2,3,4 just below the diagonal"
   ]
  },
  {
   "cell_type": "code",
   "execution_count": 13,
   "metadata": {},
   "outputs": [
    {
     "data": {
      "text/plain": [
       "array([[0, 0, 0, 0, 0],\n",
       "       [1, 0, 0, 0, 0],\n",
       "       [0, 2, 0, 0, 0],\n",
       "       [0, 0, 3, 0, 0],\n",
       "       [0, 0, 0, 4, 0]])"
      ]
     },
     "execution_count": 13,
     "metadata": {},
     "output_type": "execute_result"
    }
   ],
   "source": [
    "arr1 = np.diag(np.arange(4)+1, k = -1)\n",
    "arr1"
   ]
  },
  {
   "cell_type": "markdown",
   "metadata": {},
   "source": [
    "# 3. Create a 8x8 matrix and fill it with a checkerboard pattern"
   ]
  },
  {
   "cell_type": "code",
   "execution_count": 19,
   "metadata": {},
   "outputs": [
    {
     "name": "stdout",
     "output_type": "stream",
     "text": [
      "[[0 1 0 1 0 1 0 1]\n",
      " [1 0 1 0 1 0 1 0]\n",
      " [0 1 0 1 0 1 0 1]\n",
      " [1 0 1 0 1 0 1 0]\n",
      " [0 1 0 1 0 1 0 1]\n",
      " [1 0 1 0 1 0 1 0]\n",
      " [0 1 0 1 0 1 0 1]\n",
      " [1 0 1 0 1 0 1 0]]\n"
     ]
    }
   ],
   "source": [
    "n = 8\n",
    "\n",
    "list_0_1 = [ [ 0, 1], [ 1, 0] ]\n",
    "rep=4\n",
    "\n",
    "checkerboard = np.tile( list_0_1, (4,4) ) \n",
    "\n",
    "print( checkerboard)\n"
   ]
  },
  {
   "cell_type": "markdown",
   "metadata": {},
   "source": [
    "# 4. Normalize a 5x5 random matrix"
   ]
  },
  {
   "cell_type": "code",
   "execution_count": 25,
   "metadata": {},
   "outputs": [
    {
     "data": {
      "text/plain": [
       "array([[0.18535834, 0.10848605, 0.17356425, 0.01512455, 0.30807423],\n",
       "       [0.28196514, 0.05948251, 0.14582255, 0.26669203, 0.22755007],\n",
       "       [0.08824341, 0.05642095, 0.31430434, 0.05526334, 0.25633998],\n",
       "       [0.01132048, 0.04498889, 0.23271962, 0.15171332, 0.17807697],\n",
       "       [0.09219616, 0.14806196, 0.3428235 , 0.22069064, 0.33938808]])"
      ]
     },
     "execution_count": 25,
     "metadata": {},
     "output_type": "execute_result"
    }
   ],
   "source": [
    "arr3=np.random.rand(5,5)\n",
    "arr_norm=arr3/ np.linalg.norm(arr3)\n",
    "\n",
    "arr_norm"
   ]
  },
  {
   "cell_type": "markdown",
   "metadata": {},
   "source": [
    "# 5. How to find common values between two arrays"
   ]
  },
  {
   "cell_type": "code",
   "execution_count": 38,
   "metadata": {},
   "outputs": [
    {
     "data": {
      "text/plain": [
       "array([3, 4])"
      ]
     },
     "execution_count": 38,
     "metadata": {},
     "output_type": "execute_result"
    }
   ],
   "source": [
    "arr3=np.random.randint(0,5,5)\n",
    "arr4=np.random.randint(0,5,5)\n",
    "np.intersect1d(arr3,arr4)"
   ]
  },
  {
   "cell_type": "markdown",
   "metadata": {},
   "source": [
    "# 6. How to get the dates of yesterday, today and tomorrow?¶"
   ]
  },
  {
   "cell_type": "code",
   "execution_count": 50,
   "metadata": {},
   "outputs": [
    {
     "name": "stdout",
     "output_type": "stream",
     "text": [
      "Today:- 2020-07-29\n",
      "Yesterday:- 2020-07-28\n",
      "Tomorrow:- 2020-07-30\n"
     ]
    }
   ],
   "source": [
    "yesterday=np.datetime64('today','D')-np.timedelta64(1,'D')\n",
    "today=np.datetime64('today','D')\n",
    "tomorrow=np.datetime64('today','D')+np.timedelta64(1,'D')\n",
    "print('Today:-',today)\n",
    "print('Yesterday:-',yesterday)\n",
    "print('Tomorrow:-',tomorrow)"
   ]
  },
  {
   "cell_type": "markdown",
   "metadata": {},
   "source": [
    "# 7. Consider two random array A and B, check if they are equal"
   ]
  },
  {
   "cell_type": "code",
   "execution_count": 52,
   "metadata": {},
   "outputs": [
    {
     "name": "stdout",
     "output_type": "stream",
     "text": [
      "Array1 [0 0 1 1 4]\n",
      "Array2 [1 0 3 0 1]\n"
     ]
    },
    {
     "data": {
      "text/plain": [
       "False"
      ]
     },
     "execution_count": 52,
     "metadata": {},
     "output_type": "execute_result"
    }
   ],
   "source": [
    "arr3=np.random.randint(0,5,5)\n",
    "arr4=np.random.randint(0,5,5)\n",
    "print('Array1',arr3)\n",
    "print('Array2',arr4)\n",
    "np.array_equal(arr3,arr4)"
   ]
  },
  {
   "cell_type": "markdown",
   "metadata": {},
   "source": [
    "# 8. Create random vector of size 10 and replace the maximum value by 0"
   ]
  },
  {
   "cell_type": "code",
   "execution_count": 56,
   "metadata": {},
   "outputs": [
    {
     "name": "stdout",
     "output_type": "stream",
     "text": [
      "Before:- [0.59959115 0.61426898 0.73636389 0.4866789  0.50905561 0.29183839\n",
      " 0.23853901 0.87906435 0.2991892  0.74718284]\n",
      "after:- [0.59959115 0.61426898 0.73636389 0.4866789  0.50905561 0.29183839\n",
      " 0.23853901 0.         0.2991892  0.74718284]\n"
     ]
    }
   ],
   "source": [
    "arr5=np.random.rand(10)\n",
    "print('Before:-',arr5)\n",
    "arr5[arr5.argmax()]=0\n",
    "print('after:-',arr5)\n"
   ]
  },
  {
   "cell_type": "markdown",
   "metadata": {},
   "source": [
    "# 9. How to print all the values of an array?"
   ]
  },
  {
   "cell_type": "code",
   "execution_count": 58,
   "metadata": {},
   "outputs": [
    {
     "name": "stdout",
     "output_type": "stream",
     "text": [
      "1 is at index 0\n",
      "2 is at index 1\n",
      "3 is at index 2\n",
      "4 is at index 3\n",
      "5 is at index 4\n",
      "6 is at index 5\n",
      "7 is at index 6\n",
      "8 is at index 7\n",
      "9 is at index 8\n"
     ]
    }
   ],
   "source": [
    "\n",
    "arr7 = np.array([1,2,3,4,5,6,7,8,9])\n",
    "for index, ele in enumerate(arr7):\n",
    "    print(f\"{ele} is at index {index}\")"
   ]
  },
  {
   "cell_type": "markdown",
   "metadata": {},
   "source": [
    "# 10.Subtract the mean of each row of a matrix"
   ]
  },
  {
   "cell_type": "code",
   "execution_count": 65,
   "metadata": {},
   "outputs": [
    {
     "data": {
      "text/plain": [
       "array([[ 2,  2, -3],\n",
       "       [ 3,  3, -4],\n",
       "       [ 1, -1,  2],\n",
       "       [ 0,  0,  0],\n",
       "       [-2, -3,  5]])"
      ]
     },
     "execution_count": 65,
     "metadata": {},
     "output_type": "execute_result"
    }
   ],
   "source": [
    "np.random.seed(100)\n",
    "a = np.random.randint(1,10, [5,3])\n",
    "\n",
    "\n",
    "a - a.mean(axis=1, keepdims=True).astype(int)"
   ]
  },
  {
   "cell_type": "markdown",
   "metadata": {},
   "source": [
    "# 11.Consider a given vector, how to add 1 to each element indexed by a second vector (be careful with repeated indices)?"
   ]
  },
  {
   "cell_type": "code",
   "execution_count": 66,
   "metadata": {},
   "outputs": [
    {
     "name": "stdout",
     "output_type": "stream",
     "text": [
      "[3. 4. 3. 3. 5. 2. 2. 4. 1. 3.]\n"
     ]
    }
   ],
   "source": [
    "arr = np.ones(10)\n",
    "I = np.random.randint(0,len(arr),20)\n",
    "arr += np.bincount(I, minlength=len(arr))\n",
    "print(arr)"
   ]
  },
  {
   "cell_type": "markdown",
   "metadata": {},
   "source": [
    "# 12.How to get the diagonal of a dot product?"
   ]
  },
  {
   "cell_type": "code",
   "execution_count": 67,
   "metadata": {},
   "outputs": [
    {
     "name": "stdout",
     "output_type": "stream",
     "text": [
      "[[0.64669147 0.14206538 0.58138896 0.47918994 0.38641911]\n",
      " [0.44046495 0.40475733 0.44225404 0.03012328 0.77600531]\n",
      " [0.55095838 0.3810734  0.52926578 0.9568769  0.17582131]\n",
      " [0.11830284 0.86294567 0.07486688 0.82509486 0.83613181]\n",
      " [0.07539491 0.01140079 0.04842057 0.35712271 0.66569338]]\n",
      "[[0.01138961 0.10791777 0.9010131  0.79487876 0.81146098]\n",
      " [0.64027806 0.62477951 0.14550751 0.5702159  0.0651125 ]\n",
      " [0.31341257 0.21706577 0.52695039 0.42710838 0.98263043]\n",
      " [0.14045149 0.7484116  0.78884039 0.73039662 0.84561834]\n",
      " [0.55619038 0.05686271 0.88672457 0.31441695 0.56039187]]\n",
      "diagonal of a dot product method 1 is.... [0.56276705 0.46308667 1.74149479 1.48361854 0.78454055]\n",
      "diagonal of a dot product method 2 is.... [0.56276705 0.46308667 1.74149479 1.48361854 0.78454055]\n"
     ]
    }
   ],
   "source": [
    "A = np.random.uniform(0,1,(5,5))\n",
    "B = np.random.uniform(0,1,(5,5))\n",
    "print(A)\n",
    "print(B)\n",
    "# Slow version\n",
    "prod1=np.diag(np.dot(A, B))\n",
    "\n",
    "# Fast version\n",
    "prod2=np.sum(A * B.T, axis=1)\n",
    "\n",
    "print(\"diagonal of a dot product method 1 is....\",prod1)\n",
    "print(\"diagonal of a dot product method 2 is....\",prod2)"
   ]
  },
  {
   "cell_type": "markdown",
   "metadata": {},
   "source": [
    "# 13.How to find the most frequent value in an array?"
   ]
  },
  {
   "cell_type": "code",
   "execution_count": 68,
   "metadata": {},
   "outputs": [
    {
     "name": "stdout",
     "output_type": "stream",
     "text": [
      "[4 7 3 9 2 3 8 7 1 5 9 3 0 6 2 3 4 8 9 8 5 2 7 5 9 0 9 8 6 2 0 5 3 2 3 6 4\n",
      " 1 3 1 4 8 8 2 2 7 2 1 2 7]\n",
      "2\n"
     ]
    }
   ],
   "source": [
    "Z = np.random.randint(0,10,50)\n",
    "print(Z)\n",
    "print(np.bincount(Z).argmax())"
   ]
  },
  {
   "cell_type": "markdown",
   "metadata": {},
   "source": [
    "# 14.How to get the n largest values of an array"
   ]
  },
  {
   "cell_type": "code",
   "execution_count": 69,
   "metadata": {},
   "outputs": [
    {
     "name": "stdout",
     "output_type": "stream",
     "text": [
      "[9995 9996 9997 9998 9999]\n"
     ]
    }
   ],
   "source": [
    "Z = np.arange(10000)\n",
    "np.random.shuffle(Z)\n",
    "n = 5\n",
    "\n",
    "\n",
    "print (Z[np.argsort(Z)[-n:]])\n"
   ]
  },
  {
   "cell_type": "markdown",
   "metadata": {},
   "source": [
    "# 15.How to create a record array from a regular array?"
   ]
  },
  {
   "cell_type": "code",
   "execution_count": 70,
   "metadata": {},
   "outputs": [
    {
     "name": "stdout",
     "output_type": "stream",
     "text": [
      "[(b'Hello', 2.5, 3) (b'World', 3.6, 2)]\n"
     ]
    }
   ],
   "source": [
    "Z = np.array([(\"Hello\", 2.5, 3),\n",
    "              (\"World\", 3.6, 2)])\n",
    "R = np.core.records.fromarrays(Z.T,\n",
    "                               names='col1, col2, col3',\n",
    "                               formats = 'S8, f8, i8')\n",
    "print(R)"
   ]
  }
 ],
 "metadata": {
  "kernelspec": {
   "display_name": "Python 3",
   "language": "python",
   "name": "python3"
  },
  "language_info": {
   "codemirror_mode": {
    "name": "ipython",
    "version": 3
   },
   "file_extension": ".py",
   "mimetype": "text/x-python",
   "name": "python",
   "nbconvert_exporter": "python",
   "pygments_lexer": "ipython3",
   "version": "3.7.0"
  }
 },
 "nbformat": 4,
 "nbformat_minor": 2
}
